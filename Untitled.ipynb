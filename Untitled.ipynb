{
 "cells": [
  {
   "cell_type": "code",
   "execution_count": 26,
   "metadata": {},
   "outputs": [],
   "source": [
    "import pandas as pd\n",
    "import numpy as np\n",
    "import random"
   ]
  },
  {
   "cell_type": "code",
   "execution_count": 8,
   "metadata": {},
   "outputs": [],
   "source": [
    "data = pd.read_csv('doctors_dataset.csv') "
   ]
  },
  {
   "cell_type": "code",
   "execution_count": 11,
   "metadata": {},
   "outputs": [
    {
     "data": {
      "text/html": [
       "<div>\n",
       "<style scoped>\n",
       "    .dataframe tbody tr th:only-of-type {\n",
       "        vertical-align: middle;\n",
       "    }\n",
       "\n",
       "    .dataframe tbody tr th {\n",
       "        vertical-align: top;\n",
       "    }\n",
       "\n",
       "    .dataframe thead th {\n",
       "        text-align: right;\n",
       "    }\n",
       "</style>\n",
       "<table border=\"1\" class=\"dataframe\">\n",
       "  <thead>\n",
       "    <tr style=\"text-align: right;\">\n",
       "      <th></th>\n",
       "      <th>Dr. Amarpreet Singh Riar</th>\n",
       "      <th>https://www.practo.com/delhi/doctor/amarpreet-singh-riar-general-physician?specialization=General%20Physician&amp;practice_id=1026302</th>\n",
       "    </tr>\n",
       "  </thead>\n",
       "  <tbody>\n",
       "    <tr>\n",
       "      <th>0</th>\n",
       "      <td>Dr. (Maj.)Sharad Shrivastava</td>\n",
       "      <td>https://www.practo.com/delhi/doctor/dr-54-gene...</td>\n",
       "    </tr>\n",
       "    <tr>\n",
       "      <th>1</th>\n",
       "      <td>Dr. Anirban Biswas</td>\n",
       "      <td>https://www.practo.com/delhi/doctor/anirban-bi...</td>\n",
       "    </tr>\n",
       "    <tr>\n",
       "      <th>2</th>\n",
       "      <td>Dr. Aman Vij</td>\n",
       "      <td>https://www.practo.com/delhi/doctor/dr-aman-vi...</td>\n",
       "    </tr>\n",
       "    <tr>\n",
       "      <th>3</th>\n",
       "      <td>Dr. Mansi Arya</td>\n",
       "      <td>https://www.practo.com/delhi/doctor/dr-mansi-a...</td>\n",
       "    </tr>\n",
       "    <tr>\n",
       "      <th>4</th>\n",
       "      <td>Dr. Sunil Kumar Dwivedi</td>\n",
       "      <td>https://www.practo.com/delhi/doctor/dr-sunil-k...</td>\n",
       "    </tr>\n",
       "    <tr>\n",
       "      <th>5</th>\n",
       "      <td>Dr. Chhavi Bansal</td>\n",
       "      <td>https://www.practo.com/delhi/doctor/dr-chhavi-...</td>\n",
       "    </tr>\n",
       "    <tr>\n",
       "      <th>6</th>\n",
       "      <td>Dr. Sneh Khera</td>\n",
       "      <td>https://www.practo.com/delhi/doctor/dr-sneh-kh...</td>\n",
       "    </tr>\n",
       "    <tr>\n",
       "      <th>7</th>\n",
       "      <td>Dr. Inderjeet Singh</td>\n",
       "      <td>https://www.practo.com/delhi/doctor/inderjeet-...</td>\n",
       "    </tr>\n",
       "    <tr>\n",
       "      <th>8</th>\n",
       "      <td>Dr. Suman Mohan</td>\n",
       "      <td>https://www.practo.com/delhi/doctor/dr-suman-m...</td>\n",
       "    </tr>\n",
       "    <tr>\n",
       "      <th>9</th>\n",
       "      <td>Dr. Manish Munjal</td>\n",
       "      <td>https://www.practo.com/delhi/doctor/dr-manish-...</td>\n",
       "    </tr>\n",
       "    <tr>\n",
       "      <th>10</th>\n",
       "      <td>Dr. Ajay Jain</td>\n",
       "      <td>https://www.practo.com/delhi/doctor/dr-ajay-ja...</td>\n",
       "    </tr>\n",
       "    <tr>\n",
       "      <th>11</th>\n",
       "      <td>Dr. Anshul Gupta</td>\n",
       "      <td>https://www.practo.com/delhi/doctor/dr-anshul-...</td>\n",
       "    </tr>\n",
       "    <tr>\n",
       "      <th>12</th>\n",
       "      <td>Dr. B B Khatri</td>\n",
       "      <td>https://www.practo.com/delhi/doctor/dr-b-b-kha...</td>\n",
       "    </tr>\n",
       "    <tr>\n",
       "      <th>13</th>\n",
       "      <td>Dr. Rajeev Adhana</td>\n",
       "      <td>https://www.practo.com/delhi/clinic/adhana-ent...</td>\n",
       "    </tr>\n",
       "    <tr>\n",
       "      <th>14</th>\n",
       "      <td>Dr. Vidit Tripathi</td>\n",
       "      <td>https://www.practo.com/delhi/doctor/dr-vidit-t...</td>\n",
       "    </tr>\n",
       "    <tr>\n",
       "      <th>15</th>\n",
       "      <td>Dr. Arun Wadhawan</td>\n",
       "      <td>https://www.practo.com/delhi/doctor/dr-arun-wa...</td>\n",
       "    </tr>\n",
       "    <tr>\n",
       "      <th>16</th>\n",
       "      <td>Dr. Neha Sood</td>\n",
       "      <td>https://www.practo.com/delhi/doctor/dr-neha-so...</td>\n",
       "    </tr>\n",
       "    <tr>\n",
       "      <th>17</th>\n",
       "      <td>Dr. Vineet Narula</td>\n",
       "      <td>https://www.practo.com/delhi/doctor/vineet-nar...</td>\n",
       "    </tr>\n",
       "    <tr>\n",
       "      <th>18</th>\n",
       "      <td>Dr. Yogesh Jain</td>\n",
       "      <td>https://www.practo.com/delhi/doctor/dr-yogesh-...</td>\n",
       "    </tr>\n",
       "    <tr>\n",
       "      <th>19</th>\n",
       "      <td>Dr. Rakesh Singh</td>\n",
       "      <td>https://www.practo.com/delhi/doctor/dr-rakesh-...</td>\n",
       "    </tr>\n",
       "    <tr>\n",
       "      <th>20</th>\n",
       "      <td>Dr. Sudha Asokan</td>\n",
       "      <td>https://www.practo.com/delhi/doctor/dr-sudha-a...</td>\n",
       "    </tr>\n",
       "    <tr>\n",
       "      <th>21</th>\n",
       "      <td>Dr. Mahesh Shah</td>\n",
       "      <td>https://www.practo.com/delhi/doctor/dr-shah-4-...</td>\n",
       "    </tr>\n",
       "    <tr>\n",
       "      <th>22</th>\n",
       "      <td>Dr. S K Singh</td>\n",
       "      <td>https://www.practo.com/delhi/doctor/dr-s-k-sin...</td>\n",
       "    </tr>\n",
       "    <tr>\n",
       "      <th>23</th>\n",
       "      <td>Dr. Sudhir Bhola</td>\n",
       "      <td>https://www.practo.com/delhi/doctor/sudhir-bho...</td>\n",
       "    </tr>\n",
       "    <tr>\n",
       "      <th>24</th>\n",
       "      <td>Dr. Jyoti Arora Monga</td>\n",
       "      <td>https://www.practo.com/delhi/doctor/dr-jyoti-a...</td>\n",
       "    </tr>\n",
       "    <tr>\n",
       "      <th>25</th>\n",
       "      <td>Dr. Vijay Abbot</td>\n",
       "      <td>https://www.practo.com/delhi/doctor/dr-vijay-a...</td>\n",
       "    </tr>\n",
       "    <tr>\n",
       "      <th>26</th>\n",
       "      <td>Dr. Rakesh Gupta</td>\n",
       "      <td>https://www.practo.com/delhi/doctor/dr-rakesh-...</td>\n",
       "    </tr>\n",
       "    <tr>\n",
       "      <th>27</th>\n",
       "      <td>Dr. Sugeeta Mutreja</td>\n",
       "      <td>https://www.practo.com/delhi/doctor/sugeeta-mu...</td>\n",
       "    </tr>\n",
       "    <tr>\n",
       "      <th>28</th>\n",
       "      <td>Dr. Ruchi Gupta</td>\n",
       "      <td>https://www.practo.com/delhi/doctor/dr-ruchi-g...</td>\n",
       "    </tr>\n",
       "    <tr>\n",
       "      <th>29</th>\n",
       "      <td>Dr. Praveen Rustagi</td>\n",
       "      <td>https://www.practo.com/delhi/doctor/dr-praveen...</td>\n",
       "    </tr>\n",
       "    <tr>\n",
       "      <th>30</th>\n",
       "      <td>Dr. S.K Kashyap</td>\n",
       "      <td>https://www.practo.com/delhi/doctor/s-k-kashya...</td>\n",
       "    </tr>\n",
       "    <tr>\n",
       "      <th>31</th>\n",
       "      <td>Dr. Nipun Jain</td>\n",
       "      <td>https://www.practo.com/delhi/doctor/dr-nipun-j...</td>\n",
       "    </tr>\n",
       "    <tr>\n",
       "      <th>32</th>\n",
       "      <td>Dr. Rohit Batra</td>\n",
       "      <td>https://www.practo.com/delhi/doctor/dr-rohit-b...</td>\n",
       "    </tr>\n",
       "    <tr>\n",
       "      <th>33</th>\n",
       "      <td>Dr. Lipy Gupta</td>\n",
       "      <td>https://www.practo.com/delhi/doctor/dr-lipy-gu...</td>\n",
       "    </tr>\n",
       "    <tr>\n",
       "      <th>34</th>\n",
       "      <td>Dr. Gaurav Garg</td>\n",
       "      <td>https://www.practo.com/delhi/doctor/dr-gaurav-...</td>\n",
       "    </tr>\n",
       "    <tr>\n",
       "      <th>35</th>\n",
       "      <td>Dr. Parmil Kumar Sharma</td>\n",
       "      <td>https://www.practo.com/delhi/doctor/dr-p-k-sha...</td>\n",
       "    </tr>\n",
       "    <tr>\n",
       "      <th>36</th>\n",
       "      <td>Dr. Shruti Gupta</td>\n",
       "      <td>https://www.practo.com/delhi/doctor/shruti-gup...</td>\n",
       "    </tr>\n",
       "    <tr>\n",
       "      <th>37</th>\n",
       "      <td>Dr. Manisha Chopra</td>\n",
       "      <td>https://www.practo.com/delhi/doctor/dr-manisha...</td>\n",
       "    </tr>\n",
       "    <tr>\n",
       "      <th>38</th>\n",
       "      <td>Dr. Ranjan Upadhyay</td>\n",
       "      <td>https://www.practo.com/delhi/doctor/dr-ranjan-...</td>\n",
       "    </tr>\n",
       "    <tr>\n",
       "      <th>39</th>\n",
       "      <td>Dr. Gayatri Bala Juneja</td>\n",
       "      <td>https://www.practo.com/delhi/doctor/dr-gayatri...</td>\n",
       "    </tr>\n",
       "  </tbody>\n",
       "</table>\n",
       "</div>"
      ],
      "text/plain": [
       "        Dr. Amarpreet Singh Riar  \\\n",
       "0   Dr. (Maj.)Sharad Shrivastava   \n",
       "1             Dr. Anirban Biswas   \n",
       "2                   Dr. Aman Vij   \n",
       "3                 Dr. Mansi Arya   \n",
       "4        Dr. Sunil Kumar Dwivedi   \n",
       "5              Dr. Chhavi Bansal   \n",
       "6                 Dr. Sneh Khera   \n",
       "7            Dr. Inderjeet Singh   \n",
       "8                Dr. Suman Mohan   \n",
       "9              Dr. Manish Munjal   \n",
       "10                 Dr. Ajay Jain   \n",
       "11              Dr. Anshul Gupta   \n",
       "12                Dr. B B Khatri   \n",
       "13             Dr. Rajeev Adhana   \n",
       "14            Dr. Vidit Tripathi   \n",
       "15             Dr. Arun Wadhawan   \n",
       "16                 Dr. Neha Sood   \n",
       "17             Dr. Vineet Narula   \n",
       "18               Dr. Yogesh Jain   \n",
       "19              Dr. Rakesh Singh   \n",
       "20              Dr. Sudha Asokan   \n",
       "21               Dr. Mahesh Shah   \n",
       "22                 Dr. S K Singh   \n",
       "23              Dr. Sudhir Bhola   \n",
       "24         Dr. Jyoti Arora Monga   \n",
       "25               Dr. Vijay Abbot   \n",
       "26              Dr. Rakesh Gupta   \n",
       "27           Dr. Sugeeta Mutreja   \n",
       "28               Dr. Ruchi Gupta   \n",
       "29           Dr. Praveen Rustagi   \n",
       "30               Dr. S.K Kashyap   \n",
       "31                Dr. Nipun Jain   \n",
       "32               Dr. Rohit Batra   \n",
       "33                Dr. Lipy Gupta   \n",
       "34               Dr. Gaurav Garg   \n",
       "35       Dr. Parmil Kumar Sharma   \n",
       "36              Dr. Shruti Gupta   \n",
       "37            Dr. Manisha Chopra   \n",
       "38           Dr. Ranjan Upadhyay   \n",
       "39       Dr. Gayatri Bala Juneja   \n",
       "\n",
       "   https://www.practo.com/delhi/doctor/amarpreet-singh-riar-general-physician?specialization=General%20Physician&practice_id=1026302  \n",
       "0   https://www.practo.com/delhi/doctor/dr-54-gene...                                                                                 \n",
       "1   https://www.practo.com/delhi/doctor/anirban-bi...                                                                                 \n",
       "2   https://www.practo.com/delhi/doctor/dr-aman-vi...                                                                                 \n",
       "3   https://www.practo.com/delhi/doctor/dr-mansi-a...                                                                                 \n",
       "4   https://www.practo.com/delhi/doctor/dr-sunil-k...                                                                                 \n",
       "5   https://www.practo.com/delhi/doctor/dr-chhavi-...                                                                                 \n",
       "6   https://www.practo.com/delhi/doctor/dr-sneh-kh...                                                                                 \n",
       "7   https://www.practo.com/delhi/doctor/inderjeet-...                                                                                 \n",
       "8   https://www.practo.com/delhi/doctor/dr-suman-m...                                                                                 \n",
       "9   https://www.practo.com/delhi/doctor/dr-manish-...                                                                                 \n",
       "10  https://www.practo.com/delhi/doctor/dr-ajay-ja...                                                                                 \n",
       "11  https://www.practo.com/delhi/doctor/dr-anshul-...                                                                                 \n",
       "12  https://www.practo.com/delhi/doctor/dr-b-b-kha...                                                                                 \n",
       "13  https://www.practo.com/delhi/clinic/adhana-ent...                                                                                 \n",
       "14  https://www.practo.com/delhi/doctor/dr-vidit-t...                                                                                 \n",
       "15  https://www.practo.com/delhi/doctor/dr-arun-wa...                                                                                 \n",
       "16  https://www.practo.com/delhi/doctor/dr-neha-so...                                                                                 \n",
       "17  https://www.practo.com/delhi/doctor/vineet-nar...                                                                                 \n",
       "18  https://www.practo.com/delhi/doctor/dr-yogesh-...                                                                                 \n",
       "19  https://www.practo.com/delhi/doctor/dr-rakesh-...                                                                                 \n",
       "20  https://www.practo.com/delhi/doctor/dr-sudha-a...                                                                                 \n",
       "21  https://www.practo.com/delhi/doctor/dr-shah-4-...                                                                                 \n",
       "22  https://www.practo.com/delhi/doctor/dr-s-k-sin...                                                                                 \n",
       "23  https://www.practo.com/delhi/doctor/sudhir-bho...                                                                                 \n",
       "24  https://www.practo.com/delhi/doctor/dr-jyoti-a...                                                                                 \n",
       "25  https://www.practo.com/delhi/doctor/dr-vijay-a...                                                                                 \n",
       "26  https://www.practo.com/delhi/doctor/dr-rakesh-...                                                                                 \n",
       "27  https://www.practo.com/delhi/doctor/sugeeta-mu...                                                                                 \n",
       "28  https://www.practo.com/delhi/doctor/dr-ruchi-g...                                                                                 \n",
       "29  https://www.practo.com/delhi/doctor/dr-praveen...                                                                                 \n",
       "30  https://www.practo.com/delhi/doctor/s-k-kashya...                                                                                 \n",
       "31  https://www.practo.com/delhi/doctor/dr-nipun-j...                                                                                 \n",
       "32  https://www.practo.com/delhi/doctor/dr-rohit-b...                                                                                 \n",
       "33  https://www.practo.com/delhi/doctor/dr-lipy-gu...                                                                                 \n",
       "34  https://www.practo.com/delhi/doctor/dr-gaurav-...                                                                                 \n",
       "35  https://www.practo.com/delhi/doctor/dr-p-k-sha...                                                                                 \n",
       "36  https://www.practo.com/delhi/doctor/shruti-gup...                                                                                 \n",
       "37  https://www.practo.com/delhi/doctor/dr-manisha...                                                                                 \n",
       "38  https://www.practo.com/delhi/doctor/dr-ranjan-...                                                                                 \n",
       "39  https://www.practo.com/delhi/doctor/dr-gayatri...                                                                                 "
      ]
     },
     "execution_count": 11,
     "metadata": {},
     "output_type": "execute_result"
    }
   ],
   "source": [
    "data"
   ]
  },
  {
   "cell_type": "code",
   "execution_count": 12,
   "metadata": {},
   "outputs": [
    {
     "data": {
      "text/plain": [
       "Index(['Dr. Amarpreet Singh Riar', 'https://www.practo.com/delhi/doctor/amarpreet-singh-riar-general-physician?specialization=General%20Physician&practice_id=1026302'], dtype='object')"
      ]
     },
     "execution_count": 12,
     "metadata": {},
     "output_type": "execute_result"
    }
   ],
   "source": [
    "data.columns"
   ]
  },
  {
   "cell_type": "code",
   "execution_count": 13,
   "metadata": {},
   "outputs": [],
   "source": [
    "data.columns = ['Doctor', 'Link']"
   ]
  },
  {
   "cell_type": "code",
   "execution_count": 14,
   "metadata": {},
   "outputs": [
    {
     "data": {
      "text/plain": [
       "Index(['Doctor', 'Link'], dtype='object')"
      ]
     },
     "execution_count": 14,
     "metadata": {},
     "output_type": "execute_result"
    }
   ],
   "source": [
    "data.columns"
   ]
  },
  {
   "cell_type": "code",
   "execution_count": 76,
   "metadata": {},
   "outputs": [
    {
     "data": {
      "text/plain": [
       "'Dr. Ranjan Upadhyay'"
      ]
     },
     "execution_count": 76,
     "metadata": {},
     "output_type": "execute_result"
    }
   ],
   "source": [
    "random.choice((data['Doctor'].values))\n",
    "#print(random.choice((data['Link'].values)))"
   ]
  },
  {
   "cell_type": "code",
   "execution_count": 77,
   "metadata": {},
   "outputs": [
    {
     "name": "stdout",
     "output_type": "stream",
     "text": [
      "https://www.practo.com/delhi/doctor/dr-ruchi-gupta-1-ayurveda?specialization=Ayurveda&practice_id=825935\n"
     ]
    }
   ],
   "source": [
    "print(random.choice((data['Link'].values)))"
   ]
  },
  {
   "cell_type": "code",
   "execution_count": 36,
   "metadata": {},
   "outputs": [
    {
     "name": "stdout",
     "output_type": "stream",
     "text": [
      "Dr. Mansi Arya https://www.practo.com/delhi/doctor/dr-mansi-arya-bhardwaj-homeopath?specialization=Homoeopath&practice_id=786334\n"
     ]
    }
   ],
   "source": [
    "\n",
    "#print(df['Doctor'].values[3] , df['Link'].values[3])\n"
   ]
  },
  {
   "cell_type": "code",
   "execution_count": 29,
   "metadata": {},
   "outputs": [
    {
     "name": "stdout",
     "output_type": "stream",
     "text": [
      "The doctor you should consult is:               Doctor                                               Link\n",
      "18  Dr. Yogesh Jain  https://www.practo.com/delhi/doctor/dr-yogesh-...\n"
     ]
    }
   ],
   "source": [
    "print(\"The doctor you should consult is: \", hey)"
   ]
  },
  {
   "cell_type": "code",
   "execution_count": 57,
   "metadata": {},
   "outputs": [
    {
     "data": {
      "text/html": [
       "<div>\n",
       "<style scoped>\n",
       "    .dataframe tbody tr th:only-of-type {\n",
       "        vertical-align: middle;\n",
       "    }\n",
       "\n",
       "    .dataframe tbody tr th {\n",
       "        vertical-align: top;\n",
       "    }\n",
       "\n",
       "    .dataframe thead th {\n",
       "        text-align: right;\n",
       "    }\n",
       "</style>\n",
       "<table border=\"1\" class=\"dataframe\">\n",
       "  <thead>\n",
       "    <tr style=\"text-align: right;\">\n",
       "      <th></th>\n",
       "      <th>Doctor</th>\n",
       "      <th>Link</th>\n",
       "    </tr>\n",
       "  </thead>\n",
       "  <tbody>\n",
       "    <tr>\n",
       "      <th>1</th>\n",
       "      <td>Dr. Anirban Biswas</td>\n",
       "      <td>https://www.practo.com/delhi/doctor/anirban-bi...</td>\n",
       "    </tr>\n",
       "  </tbody>\n",
       "</table>\n",
       "</div>"
      ],
      "text/plain": [
       "               Doctor                                               Link\n",
       "1  Dr. Anirban Biswas  https://www.practo.com/delhi/doctor/anirban-bi..."
      ]
     },
     "execution_count": 57,
     "metadata": {},
     "output_type": "execute_result"
    }
   ],
   "source": [
    "df = df.sample()\n",
    "df\n",
    "#list(df.values)"
   ]
  },
  {
   "cell_type": "code",
   "execution_count": null,
   "metadata": {},
   "outputs": [],
   "source": []
  }
 ],
 "metadata": {
  "kernelspec": {
   "display_name": "Python 3",
   "language": "python",
   "name": "python3"
  },
  "language_info": {
   "codemirror_mode": {
    "name": "ipython",
    "version": 3
   },
   "file_extension": ".py",
   "mimetype": "text/x-python",
   "name": "python",
   "nbconvert_exporter": "python",
   "pygments_lexer": "ipython3",
   "version": "3.8.3"
  }
 },
 "nbformat": 4,
 "nbformat_minor": 4
}
